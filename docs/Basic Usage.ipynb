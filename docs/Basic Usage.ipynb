{
 "cells": [
  {
   "cell_type": "markdown",
   "metadata": {},
   "source": [
    "# MentaLiST quick start"
   ]
  },
  {
   "cell_type": "code",
   "execution_count": 1,
   "metadata": {
    "collapsed": false
   },
   "outputs": [
    {
     "name": "stdout",
     "output_type": "stream",
     "text": [
      "usage: MentaLiST.jl [-h]\n",
      "                    {call|build_db|list_pubmlst|download_pubmlst|list_cgmlst|download_cgmlst}\n",
      "\n",
      "commands:\n",
      "  call              MLST caller, given a sample and a k-mer database.\n",
      "  build_db          Build a MLST k-mer database, given a list of FASTA\n",
      "                    files.\n",
      "  list_pubmlst      List all available MLST schema from\n",
      "                    www.pubmlst.org.\n",
      "  download_pubmlst  Dowload a MLST scheme from pubmlst and build a\n",
      "                    MLST k-mer database.\n",
      "  list_cgmlst       List all available cgMLST schema from\n",
      "                    www.cgmlst.org.\n",
      "  download_cgmlst   Dowload a MLST scheme from cgmlst.org and build a\n",
      "                    MLST k-mer database.\n",
      "\n",
      "optional arguments:\n",
      "  -h, --help        show this help message and exit\n",
      "\n"
     ]
    }
   ],
   "source": [
    "# Help: shows all available commands:\n",
    "MentaLiST.jl -h"
   ]
  },
  {
   "cell_type": "markdown",
   "metadata": {},
   "source": [
    "# Installing MLST schema\n",
    "Many options, from custom schema to downloading from pubmlst.org or cgmlst.org."
   ]
  },
  {
   "cell_type": "markdown",
   "metadata": {
    "collapsed": true
   },
   "source": [
    "## List Available pubmlst.org schema"
   ]
  },
  {
   "cell_type": "code",
   "execution_count": 2,
   "metadata": {
    "collapsed": false
   },
   "outputs": [
    {
     "name": "stdout",
     "output_type": "stream",
     "text": [
      "usage: MentaLiST.jl list_pubmlst [-p PREFIX] [-h]\n",
      "\n",
      "optional arguments:\n",
      "  -p, --prefix PREFIX  Only list schema that starts with this prefix.\n",
      "  -h, --help           show this help message and exit\n",
      "\n"
     ]
    }
   ],
   "source": [
    "MentaLiST.jl list_pubmlst -h"
   ]
  },
  {
   "cell_type": "code",
   "execution_count": 3,
   "metadata": {
    "collapsed": false
   },
   "outputs": [
    {
     "name": "stdout",
     "output_type": "stream",
     "text": [
      "2017-07-19T15:20:59.773 - info: Downloading the MLST database xml file...\n",
      "  % Total    % Received % Xferd  Average Speed   Time    Time     Time  Current\n",
      "                                 Dload  Upload   Total   Spent    Left  Speed\n",
      "100  110k  100  110k    0     0  16038      0  0:00:07  0:00:07 --:--:-- 16041\n",
      "Campylobacter concisus/curvus  ID:23\n",
      "Campylobacter fetus            ID:24\n",
      "Campylobacter helveticus       ID:25\n",
      "Campylobacter hyointestinalis  ID:26\n",
      "Campylobacter insulaenigrae    ID:27\n",
      "Campylobacter jejuni           ID:28\n",
      "Campylobacter lanienae         ID:29\n",
      "Campylobacter lari             ID:30\n",
      "Campylobacter sputorum         ID:31\n",
      "Campylobacter upsaliensis      ID:32\n",
      "10 schema found.\n"
     ]
    }
   ],
   "source": [
    "MentaLiST.jl list_pubmlst -p Campylobacter"
   ]
  },
  {
   "cell_type": "code",
   "execution_count": 4,
   "metadata": {
    "collapsed": false
   },
   "outputs": [
    {
     "name": "stdout",
     "output_type": "stream",
     "text": [
      "/projects/pathogist/pfeijao/MentaLiST/docs\n"
     ]
    }
   ],
   "source": [
    "pwd"
   ]
  },
  {
   "cell_type": "markdown",
   "metadata": {},
   "source": [
    "## Install a pubmlst.org scheme"
   ]
  },
  {
   "cell_type": "code",
   "execution_count": 7,
   "metadata": {
    "collapsed": false
   },
   "outputs": [
    {
     "name": "stdout",
     "output_type": "stream",
     "text": [
      "2017-07-18T11:56:19.043 - info: Searching for the scheme ... \n",
      "2017-07-18T11:56:19.251 - info: Downloading scheme for Campylobacter jejuni ... \n",
      "2017-07-18T11:56:19.254 - info: Downloading profile ...\n",
      "  % Total    % Received % Xferd  Average Speed   Time    Time     Time  Current\n",
      "                                 Dload  Upload   Total   Spent    Left  Speed\n",
      "100  298k  100  298k    0     0  35824      0  0:00:08  0:00:08 --:--:-- 36475\n",
      "2017-07-18T11:56:27.852 - info: Downloading locus aspA ...\n",
      "  % Total    % Received % Xferd  Average Speed   Time    Time     Time  Current\n",
      "                                 Dload  Upload   Total   Spent    Left  Speed\n",
      "100  211k  100  211k    0     0  25617      0  0:00:08  0:00:08 --:--:-- 25617\n",
      "2017-07-18T11:56:36.322 - info: Downloading locus glnA ...\n",
      "  % Total    % Received % Xferd  Average Speed   Time    Time     Time  Current\n",
      "                                 Dload  Upload   Total   Spent    Left  Speed\n",
      "100  297k  100  297k    0     0  35395      0  0:00:08  0:00:08 --:--:-- 35393\n",
      "2017-07-18T11:56:44.93 - info: Downloading locus gltA ...\n",
      "  % Total    % Received % Xferd  Average Speed   Time    Time     Time  Current\n",
      "                                 Dload  Upload   Total   Spent    Left  Speed\n",
      "100  215k  100  215k    0     0  14648      0  0:00:15  0:00:15 --:--:-- 41341\n",
      "2017-07-18T11:56:59.979 - info: Downloading locus glyA ...\n",
      "  % Total    % Received % Xferd  Average Speed   Time    Time     Time  Current\n",
      "                                 Dload  Upload   Total   Spent    Left  Speed\n",
      "100  353k  100  353k    0     0  39091      0  0:00:09  0:00:09 --:--:-- 39094\n",
      "2017-07-18T11:57:09.248 - info: Downloading locus pgm ...\n",
      "  % Total    % Received % Xferd  Average Speed   Time    Time     Time  Current\n",
      "                                 Dload  Upload   Total   Spent    Left  Speed\n",
      "100  448k  100  448k    0     0  48659      0  0:00:09  0:00:09 --:--:--  121k\n",
      "2017-07-18T11:57:18.71 - info: Downloading locus tkt ...\n",
      "  % Total    % Received % Xferd  Average Speed   Time    Time     Time  Current\n",
      "                                 Dload  Upload   Total   Spent    Left  Speed\n",
      "100  320k  100  320k    0     0  35100      0  0:00:09  0:00:09 --:--:-- 35104\n",
      "2017-07-18T11:57:28.076 - info: Downloading locus uncA ...\n",
      "  % Total    % Received % Xferd  Average Speed   Time    Time     Time  Current\n",
      "                                 Dload  Upload   Total   Spent    Left  Speed\n",
      "100  258k  100  258k    0     0  30908      0  0:00:08  0:00:08 --:--:-- 30906\n",
      "2017-07-18T11:57:36.647 - info: Finished downloading.\n",
      "2017-07-18T11:57:36.657 - info: Building the k-mer database ...\n",
      "2017-07-18T11:57:41.058 - info: Opening FASTA files ... \n",
      "2017-07-18T11:57:42.401 - info: Combining results for each locus ...\n",
      "2017-07-18T11:57:43.161 - info: Saving DB ...\n",
      "2017-07-18T11:57:45.404 - info: Done!\n"
     ]
    }
   ],
   "source": [
    "MentaLiST.jl download_pubmlst -k 31 -o Campy -s 28 --db Campy/mlst_db_31 "
   ]
  },
  {
   "cell_type": "code",
   "execution_count": 9,
   "metadata": {
    "collapsed": false
   },
   "outputs": [
    {
     "name": "stdout",
     "output_type": "stream",
     "text": [
      "aspA.tfa           glnA.tfa  glyA.tfa        mlst_db_31.profile  tkt.tfa\n",
      "campylobacter.txt  gltA.tfa  mlst_db_31.jld  pgm.tfa             uncA.tfa\n"
     ]
    }
   ],
   "source": [
    "# The folder has all the FASTA files and profile for the scheme, and also the kmer database file,\n",
    "# mlst_db_31.jld on this example.\n",
    "ls Campy"
   ]
  },
  {
   "cell_type": "markdown",
   "metadata": {},
   "source": [
    "## Install a custom scheme from FASTA files"
   ]
  },
  {
   "cell_type": "code",
   "execution_count": 60,
   "metadata": {
    "collapsed": false
   },
   "outputs": [
    {
     "name": "stdout",
     "output_type": "stream",
     "text": [
      "2017-07-18T14:10:58.704 - info: Opening FASTA files ... \n",
      "2017-07-18T14:11:00.142 - info: Combining results for each locus ...\n",
      "2017-07-18T14:11:00.76 - info: Saving DB ...\n",
      "2017-07-18T14:11:02.777 - info: Done!\n"
     ]
    }
   ],
   "source": [
    "MentaLiST.jl build_db -k 25 --db Campy/mlst_db_25 -p Campy/campylobacter.txt -f Campy/*.tfa"
   ]
  },
  {
   "cell_type": "markdown",
   "metadata": {},
   "source": [
    "## List available cgMLST schema from cgmlst.org"
   ]
  },
  {
   "cell_type": "code",
   "execution_count": 52,
   "metadata": {
    "collapsed": false
   },
   "outputs": [
    {
     "name": "stdout",
     "output_type": "stream",
     "text": [
      "2017-07-18T14:03:37.335 - info: Downloading the cgmlist HTML to find schema...\n",
      "  % Total    % Received % Xferd  Average Speed   Time    Time     Time  Current\n",
      "                                 Dload  Upload   Total   Spent    Left  Speed\n",
      "100  4221    0  4221    0     0    551      0 --:--:--  0:00:07 --:--:--  1015\n",
      "Clostridioides difficile       - ID:3560802\n",
      "Enterococcus faecium           - ID:991893\n",
      "Francisella tularensis         - ID:260204\n",
      "Legionella pneumophila         - ID:1025099\n",
      "Listeria monocytogenes         - ID:690488\n",
      "Mycobacterium tuberculosis     - ID:741110\n",
      "Staphylococcus aureus          - ID:141106\n",
      "7 schema found.\n"
     ]
    }
   ],
   "source": [
    "MentaLiST.jl list_cgmlst"
   ]
  },
  {
   "cell_type": "markdown",
   "metadata": {},
   "source": [
    "## Download and install a cgMLST scheme from cgmlst.org"
   ]
  },
  {
   "cell_type": "code",
   "execution_count": 54,
   "metadata": {
    "collapsed": false
   },
   "outputs": [
    {
     "name": "stdout",
     "output_type": "stream",
     "text": [
      "2017-07-18T14:04:30.784 - info: Downloading cgMLST scheme ...\n",
      "  % Total    % Received % Xferd  Average Speed   Time    Time     Time  Current\n",
      "                                 Dload  Upload   Total   Spent    Left  Speed\n",
      "100  478k    0  478k    0     0  66810      0 --:--:--  0:00:07 --:--:--  150k\n",
      "2017-07-18T14:04:38.4 - info: Unzipping cgMLST scheme into individual FASTA files for each loci ...\n",
      "......\n",
      "2017-07-18T14:04:40.776 - info: 1147 loci found.\n",
      "2017-07-18T14:04:40.777 - info: Building the k-mer database ...\n",
      "2017-07-18T14:04:45.107 - info: Opening FASTA files ... \n",
      "2017-07-18T14:04:49.918 - info: Combining results for each locus ...\n",
      "2017-07-18T14:04:55.585 - info: Saving DB ...\n",
      "2017-07-18T14:04:58.782 - info: Done!\n"
     ]
    }
   ],
   "source": [
    "MentaLiST.jl download_cgmlst -o cgmlst/francisella -s 260204 -k 31 --db cgmlst/francisella/db_31"
   ]
  },
  {
   "cell_type": "markdown",
   "metadata": {},
   "source": [
    "# Calling MLST alleles for a sample"
   ]
  },
  {
   "cell_type": "code",
   "execution_count": 13,
   "metadata": {
    "collapsed": false
   },
   "outputs": [
    {
     "name": "stdout",
     "output_type": "stream",
     "text": [
      "usage: MentaLiST.jl call -o O -s S --db DB [-t T] [-q] [-e] [-j J]\n",
      "                        [-h] files...\n",
      "\n",
      "positional arguments:\n",
      "  files       FastQ input files\n",
      "\n",
      "optional arguments:\n",
      "  -o O        Output file with MLST call\n",
      "  -s S        Sample name\n",
      "  --db DB     Kmer database\n",
      "  -t T        A read of length L is discarded if it has at less than\n",
      "              (L - k) * t hits to the same locus in the kmer database,\n",
      "              where k is the kmer length. 0 <= t <= 1 (type: Float64,\n",
      "              default: 0.2)\n",
      "  -q          Quick filter; if middle kmer of a read are not in the\n",
      "              kmer DB, the read is discarded. Disabled by default.\n",
      "  -e          Use external kmc kmer counter. Disabled by default.\n",
      "  -j J        Skip length between consecutive k-mers. Defaults to 1.\n",
      "              (type: Int64, default: 1)\n",
      "  -h, --help  show this help message and exit\n",
      "\n"
     ]
    }
   ],
   "source": [
    "# Help:\n",
    "MentaLiST.jl call -h"
   ]
  },
  {
   "cell_type": "code",
   "execution_count": 38,
   "metadata": {
    "collapsed": false
   },
   "outputs": [
    {
     "name": "stdout",
     "output_type": "stream",
     "text": [
      "2017-07-18T13:49:18.03 - info: Opening kmer database ... \n",
      "2017-07-18T13:49:21.623 - info: Opening fastq file(s) ... \n",
      "2017-07-18T13:49:45.456 - info: Writing output ...\n",
      "2017-07-18T13:49:46.061 - info: Done.\n"
     ]
    }
   ],
   "source": [
    "MentaLiST.jl call -o campy_call.txt -s SRR5824107 --db Campy/mlst_db_31 ../data/SRR5824107.fastq.gz "
   ]
  },
  {
   "cell_type": "code",
   "execution_count": 39,
   "metadata": {
    "collapsed": false
   },
   "outputs": [
    {
     "name": "stdout",
     "output_type": "stream",
     "text": [
      "campy_call.txt  campy_call.txt.ties.txt  campy_call.txt.votes.txt\n"
     ]
    }
   ],
   "source": [
    "# results:\n",
    "ls campy_call.*"
   ]
  },
  {
   "cell_type": "code",
   "execution_count": 50,
   "metadata": {
    "collapsed": false
   },
   "outputs": [
    {
     "name": "stdout",
     "output_type": "stream",
     "text": [
      "Sample      aspA  glnA  gltA  glyA  pgm  tkt  uncA  ST   clonal_complex\n",
      "SRR5824107  2     17    2     3     2    1    5     883  ST-21 complex\n"
     ]
    }
   ],
   "source": [
    "# Allele calls and ST are on the campy_call.txt file:\n",
    "column -ts $'\\t' campy_call.txt"
   ]
  },
  {
   "cell_type": "code",
   "execution_count": 41,
   "metadata": {
    "collapsed": false
   },
   "outputs": [
    {
     "name": "stdout",
     "output_type": "stream",
     "text": [
      "Locus\tAllele(votes),...\n",
      "aspA\t2(24534), 43(24248), 308(22910), 150(22535), 31(21781), 36(20619), 398(20418), 214(20050), 172(20043), 355(20028)\n",
      "glnA\t17(18752), 520(18064), 234(17676), 526(17676), 607(17505), 549(16828), 35(16016), 347(15669), 200(15619), 227(15613)\n",
      "gltA\t2(34362), 307(33256), 149(32771), 89(32739), 16(32739), 250(32601), 156(32601), 267(30422), 27(30086), 436(30080)\n",
      "glyA\t3(34886), 10(34601), 9(34525), 121(34240), 389(33866), 658(33411), 506(32894), 73(32482), 362(32057), 393(32035)\n",
      "pgm\t2(29174), 20(29033), 69(28510), 693(28261), 70(28041), 355(27996), 357(27690), 340(27633), 33(27324), 887(27285)\n",
      "tkt\t1(33722), 298(32902), 474(32844), 343(32754), 255(32662), 53(31980), 319(31980), 226(31878), 309(31776), 436(31776)\n",
      "uncA\t5(40636), 25(40289), 291(40167), 246(39801), 282(39697), 301(38655), 433(38150), 482(38013), 320(37226), 458(37225)\n"
     ]
    }
   ],
   "source": [
    "# Detailed vote count for each allele:\n",
    "cat campy_call.txt.votes.txt"
   ]
  },
  {
   "cell_type": "code",
   "execution_count": null,
   "metadata": {
    "collapsed": true
   },
   "outputs": [],
   "source": []
  }
 ],
 "metadata": {
  "kernelspec": {
   "display_name": "Bash",
   "language": "bash",
   "name": "bash"
  },
  "language_info": {
   "codemirror_mode": "shell",
   "file_extension": ".sh",
   "mimetype": "text/x-sh",
   "name": "bash"
  }
 },
 "nbformat": 4,
 "nbformat_minor": 2
}

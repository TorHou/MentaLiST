{
 "cells": [
  {
   "cell_type": "markdown",
   "metadata": {},
   "source": [
    "# MentaLiST quick start\n",
    "\n",
    "This notebook shows some examples on how to run MentaLiST to create new MLST scheme databases, either downloading from public MLST websites or from custom files, and then calling alleles for NGS samples."
   ]
  },
  {
   "cell_type": "markdown",
   "metadata": {},
   "source": [
    "## Help\n",
    "MentaLiST.jl is the main script, with several commands available. To see a list of commands, run MentaLiST with the -h flag:  "
   ]
  },
  {
   "cell_type": "code",
   "execution_count": 1,
   "metadata": {
    "collapsed": false
   },
   "outputs": [
    {
     "name": "stdout",
     "output_type": "stream",
     "text": [
      "usage: MentaLiST.jl [-h]\n",
      "                    {call|build_db|list_pubmlst|download_pubmlst|list_cgmlst|download_cgmlst}\n",
      "\n",
      "commands:\n",
      "  call              MLST caller, given a sample and a k-mer database.\n",
      "  build_db          Build a MLST k-mer database, given a list of FASTA\n",
      "                    files.\n",
      "  list_pubmlst      List all available MLST schema from\n",
      "                    www.pubmlst.org.\n",
      "  download_pubmlst  Dowload a MLST scheme from pubmlst and build a\n",
      "                    MLST k-mer database.\n",
      "  list_cgmlst       List all available cgMLST schema from\n",
      "                    www.cgmlst.org.\n",
      "  download_cgmlst   Dowload a MLST scheme from cgmlst.org and build a\n",
      "                    MLST k-mer database.\n",
      "\n",
      "optional arguments:\n",
      "  -h, --help        show this help message and exit\n",
      "\n"
     ]
    }
   ],
   "source": [
    "# Help: shows all available commands:\n",
    "MentaLiST.jl -h"
   ]
  },
  {
   "cell_type": "markdown",
   "metadata": {},
   "source": [
    "To see the help of a particular command, run MentaLiST with the command name and the -h flag: "
   ]
  },
  {
   "cell_type": "code",
   "execution_count": 2,
   "metadata": {
    "collapsed": false
   },
   "outputs": [
    {
     "name": "stdout",
     "output_type": "stream",
     "text": [
      "usage: MentaLiST.jl call -o O -s S --db DB [-t T] [-q] [-e] [-j J]\n",
      "                        [-h] files...\n",
      "\n",
      "positional arguments:\n",
      "  files       FastQ input files\n",
      "\n",
      "optional arguments:\n",
      "  -o O        Output file with MLST call\n",
      "  -s S        Sample name\n",
      "  --db DB     Kmer database\n",
      "  -t T        A read of length L is discarded if it has at less than\n",
      "              (L - k) * t hits to the same locus in the kmer database,\n",
      "              where k is the kmer length. 0 <= t <= 1 (type: Float64,\n",
      "              default: 0.2)\n",
      "  -q          Quick filter (MentaLiST FAST); if middle kmer of a read\n",
      "              is not in the kmer DB, the read is discarded. Disabled\n",
      "              by default.\n",
      "  -e          Use external kmc kmer counter. Disabled by default.\n",
      "  -j J        Skip length between consecutive k-mers. Defaults to 1.\n",
      "              (type: Int64, default: 1)\n",
      "  -h, --help  show this help message and exit\n",
      "\n"
     ]
    }
   ],
   "source": [
    "MentaLiST.jl call -h"
   ]
  },
  {
   "cell_type": "markdown",
   "metadata": {},
   "source": [
    "In the following sections, we will give quick examples on how to use each of MentaLiST commands. It might be a good idea to create a new folder to store the results: "
   ]
  },
  {
   "cell_type": "code",
   "execution_count": 3,
   "metadata": {
    "collapsed": false
   },
   "outputs": [],
   "source": [
    "mkdir mentalist_results\n",
    "cd mentalist_results "
   ]
  },
  {
   "cell_type": "markdown",
   "metadata": {},
   "source": [
    "# Installing MLST schema\n",
    "MentaLiST needs to create a k-mer database file for a given MLST scheme before it can call alleles. There are different possible options, from custom schema based on local FASTA files, to downloading public schema from pubmlst.org or cgmlst.org."
   ]
  },
  {
   "cell_type": "markdown",
   "metadata": {
    "collapsed": true
   },
   "source": [
    "## pubMLST schema\n",
    "\n",
    "MentaLiST can search and install MLST schema from pubMLST.org, as shown.\n",
    "\n",
    "### List Available pubmlst.org schema\n",
    "The command 'list_publist' lists the available schema on pubMLST. Since there are many, it is also possible to give a prefix, such that only schema matching this prefix are listed."
   ]
  },
  {
   "cell_type": "code",
   "execution_count": null,
   "metadata": {
    "collapsed": false
   },
   "outputs": [
    {
     "name": "stdout",
     "output_type": "stream",
     "text": [
      "usage: MentaLiST.jl list_pubmlst [-p PREFIX] [-h]\n",
      "\n",
      "optional arguments:\n",
      "  -p, --prefix PREFIX  Only list schema that starts with this prefix.\n",
      "  -h, --help           show this help message and exit\n",
      "\n"
     ]
    }
   ],
   "source": [
    "MentaLiST.jl list_pubmlst -h"
   ]
  },
  {
   "cell_type": "code",
   "execution_count": null,
   "metadata": {
    "collapsed": false
   },
   "outputs": [
    {
     "name": "stdout",
     "output_type": "stream",
     "text": [
      "2017-08-02T12:46:31.172 - info: Downloading the MLST database xml file...\n",
      "  % Total    % Received % Xferd  Average Speed   Time    Time     Time  Current\n",
      "                                 Dload  Upload   Total   Spent    Left  Speed\n"
     ]
    }
   ],
   "source": [
    "# List campylobacter schema:\n",
    "MentaLiST.jl list_pubmlst -p Campylobacter"
   ]
  },
  {
   "cell_type": "markdown",
   "metadata": {},
   "source": [
    "### Install a pubmlst.org scheme\n",
    "A scheme can be referenced by species name (exact match) or, more simply, but the ID as given in the 'list_pubmlst' command. To install the 'Campylobacter jejuni' scheme, run the following command:"
   ]
  },
  {
   "cell_type": "code",
   "execution_count": null,
   "metadata": {
    "collapsed": false
   },
   "outputs": [],
   "source": [
    "MentaLiST.jl download_pubmlst -k 31 -o Campy -s 28 --db Campy/mlst_31.db "
   ]
  },
  {
   "cell_type": "code",
   "execution_count": null,
   "metadata": {
    "collapsed": false
   },
   "outputs": [],
   "source": [
    "# The output folder has all the FASTA files and profile for the scheme, and also the kmer database file,\n",
    "# mlst_31.db on this example.\n",
    "ls Campy"
   ]
  },
  {
   "cell_type": "markdown",
   "metadata": {},
   "source": [
    "## cgMLST schema\n",
    "Similarly with the pubMLST schema, MentaLiST can also download and install cgMLST schema from cgmlst.org.\n",
    "\n",
    "### List available cgMLST schema from cgmlst.org"
   ]
  },
  {
   "cell_type": "code",
   "execution_count": null,
   "metadata": {
    "collapsed": false
   },
   "outputs": [],
   "source": [
    "MentaLiST.jl list_cgmlst"
   ]
  },
  {
   "cell_type": "markdown",
   "metadata": {},
   "source": [
    "### Download and install a cgMLST scheme from cgmlst.org"
   ]
  },
  {
   "cell_type": "code",
   "execution_count": null,
   "metadata": {
    "collapsed": false
   },
   "outputs": [],
   "source": [
    "MentaLiST.jl download_cgmlst -h"
   ]
  },
  {
   "cell_type": "code",
   "execution_count": null,
   "metadata": {
    "collapsed": false
   },
   "outputs": [],
   "source": [
    "MentaLiST.jl download_cgmlst -o cgmlst/legionella -s 1025099 -k 31 --db cgmlst/legionella/db_31"
   ]
  },
  {
   "cell_type": "markdown",
   "metadata": {},
   "source": [
    "## Install a custom scheme from FASTA files\n",
    "It is also possible to install a custom MLST scheme from the FASTA files. Each file should be called LOCUS.fa (the extension is not important, can be .fasta, .tfa, etc.), and each different allele in this file should have identifier LOCUS_N (or alternatively LOCUS.N), where N is a unique number for each allele, and it is usually a sequence from 1 to N for N alleles. \n",
    "\n",
    "For instance, for the Campylobacter scheme that was downloaded in the example above, we have:"
   ]
  },
  {
   "cell_type": "code",
   "execution_count": null,
   "metadata": {
    "collapsed": false
   },
   "outputs": [],
   "source": [
    "# Each file is a different locus:\n",
    "ls Campy/*.tfa"
   ]
  },
  {
   "cell_type": "code",
   "execution_count": null,
   "metadata": {
    "collapsed": false
   },
   "outputs": [],
   "source": [
    "# For each locus file, a different ID and sequence for each allele:\n",
    "head -n 20 Campy/glnA.tfa"
   ]
  },
  {
   "cell_type": "code",
   "execution_count": null,
   "metadata": {
    "collapsed": false
   },
   "outputs": [],
   "source": [
    "# Install the Campylobacter jejuni scheme directly from the FASTA files:\n",
    "MentaLiST.jl build_db -k 25 --db Campy/mlst_25.db -p Campy/campylobacter.txt -f Campy/*.tfa"
   ]
  },
  {
   "cell_type": "markdown",
   "metadata": {},
   "source": [
    "# Calling MLST alleles for a sample\n",
    "\n",
    "After a k-mer database has been created, MentaLiST can call alleles for a given sample."
   ]
  },
  {
   "cell_type": "code",
   "execution_count": null,
   "metadata": {
    "collapsed": false
   },
   "outputs": [],
   "source": [
    "# Help:\n",
    "MentaLiST.jl call -h"
   ]
  },
  {
   "cell_type": "markdown",
   "metadata": {},
   "source": [
    "For this example we are using a Campylobacter jejuni sample from NCBI SRA that was hugely downsampled to make it smaller. This sample is available on the GitHub repository at https://github.com/WGS-TB/MentaLiST/blob/master/data/SRR5824107_small.fastq.gz. If you don't have a clone of the repository installed, you can download this file with the following command:"
   ]
  },
  {
   "cell_type": "code",
   "execution_count": null,
   "metadata": {
    "collapsed": false
   },
   "outputs": [],
   "source": [
    "wget https://github.com/WGS-TB/MentaLiST/raw/master/data/SRR5824107_small.fastq.gz"
   ]
  },
  {
   "cell_type": "markdown",
   "metadata": {},
   "source": [
    "Now, run MentaLiST caller on this sample:"
   ]
  },
  {
   "cell_type": "code",
   "execution_count": null,
   "metadata": {
    "collapsed": false
   },
   "outputs": [],
   "source": [
    "MentaLiST.jl call -o campy_call.txt -s SRR5824107 --db Campy/mlst_31.db SRR5824107_small.fastq.gz "
   ]
  },
  {
   "cell_type": "markdown",
   "metadata": {},
   "source": [
    "The output consists of three files: one has the calls, and the two other some details about the number of votes per allele and if there was a tie between the best alleles."
   ]
  },
  {
   "cell_type": "code",
   "execution_count": null,
   "metadata": {
    "collapsed": false
   },
   "outputs": [],
   "source": [
    "# results:\n",
    "ls campy_call.*"
   ]
  },
  {
   "cell_type": "code",
   "execution_count": null,
   "metadata": {
    "collapsed": false
   },
   "outputs": [],
   "source": [
    "# Allele calls and ST are on the campy_call.txt file:\n",
    "column -ts $'\\t' campy_call.txt"
   ]
  },
  {
   "cell_type": "code",
   "execution_count": null,
   "metadata": {
    "collapsed": false
   },
   "outputs": [],
   "source": [
    "# Detailed vote count for each allele:\n",
    "cat campy_call.txt.votes.txt"
   ]
  },
  {
   "cell_type": "markdown",
   "metadata": {},
   "source": [
    "Now we test the MentaLiST call on a Legionella sample, also downloaded from NCBI SRA and downsampled. This sample is available at https://github.com/WGS-TB/MentaLiST/blob/master/data/ERR2009175_small.fastq.gz"
   ]
  },
  {
   "cell_type": "code",
   "execution_count": null,
   "metadata": {
    "collapsed": false
   },
   "outputs": [],
   "source": [
    "wget https://github.com/WGS-TB/MentaLiST/raw/master/data/ERR2009175_small.fastq.gz"
   ]
  },
  {
   "cell_type": "code",
   "execution_count": null,
   "metadata": {
    "collapsed": false
   },
   "outputs": [],
   "source": [
    "## Legionela, small sample:\n",
    "MentaLiST.jl call -o legionela2.txt -s ERR2009175 --db cgmlst/legionella/db_31 ERR2009175_small2.fastq.gz "
   ]
  },
  {
   "cell_type": "code",
   "execution_count": null,
   "metadata": {
    "collapsed": false
   },
   "outputs": [],
   "source": [
    "# Check the first 10 calls:\n",
    "cut -f1-10 legionela2.txt | column -ts $'\\t'  "
   ]
  },
  {
   "cell_type": "code",
   "execution_count": null,
   "metadata": {
    "collapsed": false
   },
   "outputs": [],
   "source": [
    "# votes:\n",
    "head legionela2.txt.votes.txt"
   ]
  },
  {
   "cell_type": "code",
   "execution_count": null,
   "metadata": {
    "collapsed": false
   },
   "outputs": [],
   "source": [
    "cat legionela2.txt.ties.txt"
   ]
  },
  {
   "cell_type": "code",
   "execution_count": null,
   "metadata": {
    "collapsed": true
   },
   "outputs": [],
   "source": []
  },
  {
   "cell_type": "code",
   "execution_count": null,
   "metadata": {
    "collapsed": true
   },
   "outputs": [],
   "source": []
  }
 ],
 "metadata": {
  "kernelspec": {
   "display_name": "Bash",
   "language": "bash",
   "name": "bash"
  },
  "language_info": {
   "codemirror_mode": "shell",
   "file_extension": ".sh",
   "mimetype": "text/x-sh",
   "name": "bash"
  }
 },
 "nbformat": 4,
 "nbformat_minor": 2
}
